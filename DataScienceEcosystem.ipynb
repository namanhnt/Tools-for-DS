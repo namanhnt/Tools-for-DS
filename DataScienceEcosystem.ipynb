{
 "cells": [
  {
   "cell_type": "markdown",
   "id": "316fa9f6-c09d-46fc-ba85-177670722bc2",
   "metadata": {},
   "source": [
    "# Data Science Tools and Ecosystem"
   ]
  },
  {
   "cell_type": "markdown",
   "id": "a652ac5f-242f-4391-9420-59b76e77df6a",
   "metadata": {},
   "source": [
    "In this notebook, Data Science Tools and Ecosystem are summarized."
   ]
  },
  {
   "cell_type": "markdown",
   "id": "0ad5ffd7-f495-4fe9-8092-45c729127713",
   "metadata": {},
   "source": [
    "**Objectives:**\n",
    "- List popular languages for Data Science\n",
    "- List common libraries for Data Science\n",
    "- List Data Science tools"
   ]
  },
  {
   "cell_type": "markdown",
   "id": "3b5a5f14-8f91-425b-83e4-702b4ca98900",
   "metadata": {},
   "source": [
    "**Some of the popular languages that Data Scientists use are:**\n",
    "- Python\n",
    "- SQL\n",
    "- R"
   ]
  },
  {
   "cell_type": "markdown",
   "id": "69488ba2-d12b-42f6-a046-e0f061e827ac",
   "metadata": {
    "tags": []
   },
   "source": [
    "**Some of the commonly used libraries used by Data Scientists include:**\n",
    "- NumPy\n",
    "- Keras\n",
    "- Pandas"
   ]
  },
  {
   "cell_type": "markdown",
   "id": "3cf3d204-7520-4b38-9365-52edd66850d9",
   "metadata": {},
   "source": [
    "**Data Science Tools**\n",
    "| Data Science Tools |\n",
    "| ------------------ |\n",
    "| Apache Spark |\n",
    "| Rstudio |\n",
    "| TensorFlow |"
   ]
  },
  {
   "cell_type": "markdown",
   "id": "6c733495-6752-4250-a2c1-3fd19d08b0fb",
   "metadata": {},
   "source": [
    "### Below are a few examples of evaluating arithmetic expressions in Python."
   ]
  },
  {
   "cell_type": "code",
   "execution_count": 2,
   "id": "81cdde78-52a9-4e51-82b6-8e3daaf107b3",
   "metadata": {
    "tags": []
   },
   "outputs": [
    {
     "data": {
      "text/plain": [
       "17"
      ]
     },
     "execution_count": 2,
     "metadata": {},
     "output_type": "execute_result"
    }
   ],
   "source": [
    "#This a simple arithmetic expression to mutiply then add integers\n",
    "(3*4)+5"
   ]
  },
  {
   "cell_type": "code",
   "execution_count": 3,
   "id": "2c57690a-2881-4cfc-a0bc-6b62d279828c",
   "metadata": {
    "tags": []
   },
   "outputs": [
    {
     "data": {
      "text/plain": [
       "33.333333333333336"
      ]
     },
     "execution_count": 3,
     "metadata": {},
     "output_type": "execute_result"
    }
   ],
   "source": [
    "#This will convert 200 minutes to hours by diving by 60\n",
    "200/6"
   ]
  },
  {
   "cell_type": "markdown",
   "id": "4768730e-6808-45f6-beca-4869aec58bda",
   "metadata": {},
   "source": [
    "## Author:\n",
    "    Nam (Aaron) Nguyen"
   ]
  },
  {
   "cell_type": "code",
   "execution_count": null,
   "id": "eaed7cbd-f731-40f5-a964-17909af780f5",
   "metadata": {},
   "outputs": [],
   "source": []
  }
 ],
 "metadata": {
  "kernelspec": {
   "display_name": "Python 3 (ipykernel)",
   "language": "python",
   "name": "python3"
  },
  "language_info": {
   "codemirror_mode": {
    "name": "ipython",
    "version": 3
   },
   "file_extension": ".py",
   "mimetype": "text/x-python",
   "name": "python",
   "nbconvert_exporter": "python",
   "pygments_lexer": "ipython3",
   "version": "3.11.5"
  }
 },
 "nbformat": 4,
 "nbformat_minor": 5
}
